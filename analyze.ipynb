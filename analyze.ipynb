{
 "cells": [
  {
   "cell_type": "markdown",
   "metadata": {},
   "source": [
    "## Imports"
   ]
  },
  {
   "cell_type": "code",
   "execution_count": 11,
   "metadata": {},
   "outputs": [],
   "source": [
    "from typing import Callable, Any, Dict\n",
    "import re\n",
    "\n",
    "from pathlib import Path\n",
    "\n",
    "import numpy as np\n",
    "import pandas as pd\n",
    "import matplotlib.pyplot as plt\n",
    "import seaborn as sns\n",
    "\n",
    "from natsort import natsorted"
   ]
  },
  {
   "cell_type": "markdown",
   "metadata": {},
   "source": [
    "## Global information about each suite"
   ]
  },
  {
   "cell_type": "code",
   "execution_count": 12,
   "metadata": {},
   "outputs": [],
   "source": [
    "runs  = {e: {} for e in Path(\"./out\").iterdir()}\n",
    "\n",
    "def add_entry_to_run(new_key: str, f: Callable[[Path, Dict[str, Any]], Any]) -> Dict[Path, Dict[str, Any]]:\n",
    "    global runs\n",
    "    for key, value in runs.items():\n",
    "        value.update({new_key: f(key, value)})\n",
    "\n",
    "add_entry_to_run(\"name\", lambda p, d: p.name)"
   ]
  },
  {
   "cell_type": "markdown",
   "metadata": {},
   "source": [
    "### Time"
   ]
  },
  {
   "cell_type": "code",
   "execution_count": 13,
   "metadata": {},
   "outputs": [],
   "source": [
    "def get_time(p:Path, d):\n",
    "    file_path = p.rglob(\"klee/info\").__next__()\n",
    "    if file_path.exists():\n",
    "        with open(file_path, \"r\") as file:\n",
    "            res = re.search(r\"--max-time=(\\w*)\", file.read())\n",
    "            if res:\n",
    "                return res.group(1)\n",
    "    return None\n",
    "\n",
    "add_entry_to_run(\"time\", get_time)"
   ]
  },
  {
   "cell_type": "markdown",
   "metadata": {},
   "source": [
    "## Per util information\n",
    "\n",
    "### Setup"
   ]
  },
  {
   "cell_type": "code",
   "execution_count": 14,
   "metadata": {},
   "outputs": [],
   "source": [
    "add_entry_to_run(\"df\", lambda p, d: pd.DataFrame(columns=[e.name for e in p.iterdir() if e.is_dir()]))\n",
    "\n",
    "def add_entry_for_utils(key: str, f: Callable[[Path], Any]) -> None:\n",
    "    \"\"\"\n",
    "    Add entry for all utils\n",
    "\n",
    "    Paramenters:\n",
    "    key (str): key to add the new value at in the dataframe\n",
    "    f (Callable[[Path], Any]): function taking the path to the subfolder for the util and returning the appropriate value\n",
    "    \"\"\"\n",
    "\n",
    "    def adder(p: Path, d):\n",
    "        df = d[\"df\"]\n",
    "        res = {}\n",
    "        for util in df.columns:\n",
    "            path = p / util\n",
    "            if not path.exists():\n",
    "                raise Exception(f\"Path \\\"{util}\\\" does not exist\")\n",
    "            res[util] = f(path)\n",
    "        df.loc[key] = res\n",
    "        return df\n",
    "    add_entry_to_run(\"df\", adder)"
   ]
  },
  {
   "cell_type": "markdown",
   "metadata": {},
   "source": [
    "### Number of errors according to KLEE"
   ]
  },
  {
   "cell_type": "code",
   "execution_count": 15,
   "metadata": {},
   "outputs": [],
   "source": [
    "def read_num_errors(util_path: Path) -> str:\n",
    "    file_path = util_path / \"klee\"\n",
    "    if file_path.exists():\n",
    "        return str(len(list(file_path.glob(\"*.err\"))))\n",
    "    return None\n",
    "\n",
    "add_entry_for_utils(\"num_errors\", read_num_errors)"
   ]
  },
  {
   "cell_type": "markdown",
   "metadata": {},
   "source": [
    "### Coverage according to KLEE"
   ]
  },
  {
   "cell_type": "code",
   "execution_count": 16,
   "metadata": {},
   "outputs": [],
   "source": [
    "def read_klee_csv(csv_name: str) -> Callable[[Path], str]:\n",
    "    def f(util_path: Path) -> str:\n",
    "        file_path = util_path / \"klee-stats.csv\"\n",
    "        if file_path.exists():\n",
    "            df = pd.read_csv(file_path)\n",
    "            return str(df[csv_name][0])\n",
    "        return None\n",
    "    return f\n",
    "\n",
    "add_entry_for_utils(\"klee_ICov\", read_klee_csv(\"ICov(%)\"))\n",
    "add_entry_for_utils(\"klee_BCov\", read_klee_csv(\"BCov(%)\"))"
   ]
  },
  {
   "cell_type": "markdown",
   "metadata": {},
   "source": [
    "### Coverage according to `gcov`"
   ]
  },
  {
   "cell_type": "code",
   "execution_count": 17,
   "metadata": {},
   "outputs": [],
   "source": [
    "def read_gcov_cov(util_path: Path) -> str:\n",
    "    file_path = util_path / \"cov.txt\"\n",
    "    if file_path.exists():\n",
    "        with open(file_path, \"r\") as file:\n",
    "            res = re.search(r\"File '\\.\\./\\.\\./src/(\\w+)\\.c'\\nLines executed:(\\d?\\d\\d.\\d\\d)% of \\d+\", file.read())\n",
    "            if res:\n",
    "                return res.group(2)\n",
    "    return None\n",
    "\n",
    "add_entry_for_utils(\"gcov_cov\", read_gcov_cov)"
   ]
  },
  {
   "cell_type": "markdown",
   "metadata": {},
   "source": [
    "## Plots\n",
    "### Massaging `df`s together"
   ]
  },
  {
   "cell_type": "code",
   "execution_count": 18,
   "metadata": {},
   "outputs": [
    {
     "name": "stdout",
     "output_type": "stream",
     "text": [
      "             key       util  value                   DataFrame     time\n",
      "589     gcov_cov     uptime  87.32        out/coreutils-6.10-3    60min\n",
      "3271   klee_ICov       sync  38.27      out/coreutils-6.10-24h  1440min\n",
      "877    klee_ICov      sleep  40.64    out/coreutils-6.10-24h-2  1440min\n",
      "3080   klee_ICov       stty  46.05  out/coreutils-6.10-10min-3    10min\n",
      "1416  num_errors      paste  10.00        out/coreutils-6.10-2    60min\n",
      "130    klee_BCov     mkfifo  28.09    out/coreutils-6.10-24h-3  1440min\n",
      "1092   klee_BCov      mknod  29.35    out/coreutils-6.10-10min    10min\n",
      "2968  num_errors     expand   0.00  out/coreutils-6.10-10min-3    10min\n",
      "748   num_errors    logname   0.00    out/coreutils-6.10-24h-2  1440min\n",
      "466   num_errors      mkdir   1.00        out/coreutils-6.10-3    60min\n",
      "1139   klee_ICov      chmod  40.21    out/coreutils-6.10-10min    10min\n",
      "944   num_errors         wc   0.00    out/coreutils-6.10-24h-2  1440min\n",
      "3777   klee_BCov   basename  25.86  out/coreutils-6.10-10min-2    10min\n",
      "119     gcov_cov      mkdir  96.92    out/coreutils-6.10-24h-3  1440min\n",
      "1808   klee_BCov       sort  28.41        out/coreutils-6.10-4    60min\n",
      "3118  num_errors  dircolors   0.00  out/coreutils-6.10-10min-3    10min\n",
      "3519    gcov_cov      paste  91.48  out/coreutils-6.10-10min-2    10min\n",
      "3838  num_errors       expr   0.00  out/coreutils-6.10-10min-2    10min\n",
      "1950  num_errors  setuidgid   0.00        out/coreutils-6.10-4    60min\n",
      "2698  num_errors       link   0.00          out/coreutils-6.10    60min\n"
     ]
    }
   ],
   "source": [
    "dfs = []\n",
    "for k, v in runs.items():\n",
    "    df = v[\"df\"]\n",
    "    df = df.reset_index(names=\"key\")\n",
    "    df = df.melt(id_vars=\"key\", var_name=\"util\")\n",
    "    # .melt(id_vars=\"\")\n",
    "    df[\"DataFrame\"] = str(k)\n",
    "    df[\"time\"] = v[\"time\"]\n",
    "    dfs.append(df)\n",
    "\n",
    "combined_df = pd.concat(dfs)\n",
    "combined_df['value'] = combined_df['value'].astype(np.float64)\n",
    "combined_df = combined_df.dropna(subset=['value'])\n",
    "combined_df = combined_df.reset_index(drop=True)\n",
    "print(combined_df.sample(20))"
   ]
  },
  {
   "cell_type": "markdown",
   "metadata": {},
   "source": [
    "### Plots by coverage"
   ]
  },
  {
   "cell_type": "code",
   "execution_count": 19,
   "metadata": {},
   "outputs": [],
   "source": [
    "coverage_df = combined_df.drop(columns=\"DataFrame\")\n",
    "keys = coverage_df[\"key\"].unique()\n",
    "fig, axes = plt.subplots(nrows=len(keys), ncols=1, figsize=(10, 5*len(keys)), dpi=300)\n",
    "fig.suptitle(f\"Empirical Cumulative Distribution Function (ECDF)\", fontsize=20, y=0.99)\n",
    "for time in natsorted(coverage_df[\"time\"].unique()):\n",
    "    filtered_by_time_df = coverage_df[coverage_df[\"time\"] == time]\n",
    "    filtered_by_time_df = filtered_by_time_df.drop(columns=\"time\")\n",
    "    filtered_by_time_df = filtered_by_time_df.groupby([\"util\", \"key\"]).mean()\n",
    "    filtered_by_time_df = filtered_by_time_df.reset_index()\n",
    "    for key_i, key in enumerate(np.sort(keys)):\n",
    "        filtered_by_key_df = filtered_by_time_df[filtered_by_time_df['key'] == key]\n",
    "        axes[key_i].set_title(key)\n",
    "        sns.ecdfplot(y=\"value\", data=filtered_by_key_df, ax=axes[key_i], label=time)\n",
    "        axes[key_i].legend()\n",
    "plt.tight_layout()\n",
    "plt.savefig(f\"plots/by-time.png\")\n",
    "plt.close()"
   ]
  },
  {
   "cell_type": "markdown",
   "metadata": {},
   "source": [
    "### Plots by util"
   ]
  },
  {
   "cell_type": "code",
   "execution_count": 20,
   "metadata": {},
   "outputs": [
    {
     "name": "stdout",
     "output_type": "stream",
     "text": [
      "Done with base64\n",
      "Done with basename\n",
      "Done with cat\n",
      "Done with chcon\n",
      "Done with chgrp\n",
      "Done with chmod\n",
      "Done with chown\n",
      "Done with chroot\n",
      "Done with cksum\n",
      "Done with comm\n",
      "Done with cp\n",
      "Done with csplit\n",
      "Done with cut\n",
      "Done with date\n",
      "Done with dd\n",
      "Done with df\n",
      "Done with dircolors\n",
      "Done with dirname\n",
      "Done with du\n",
      "Done with echo\n",
      "Done with env\n",
      "Done with expand\n",
      "Done with expr\n",
      "Done with factor\n",
      "Done with false\n",
      "Done with fmt\n",
      "Done with fold\n",
      "Done with ginstall\n",
      "Done with head\n",
      "Done with hostid\n",
      "Done with hostname\n",
      "Done with id\n",
      "Done with join\n",
      "Done with kill\n",
      "Done with link\n",
      "Done with ln\n",
      "Done with logname\n",
      "Done with ls\n",
      "Done with md5sum\n",
      "Done with mkdir\n",
      "Done with mkfifo\n",
      "Done with mknod\n",
      "Done with mktemp\n",
      "Done with mv\n",
      "Done with nice\n",
      "Done with nl\n",
      "Done with nohup\n",
      "Done with od\n",
      "Done with paste\n",
      "Done with pathchk\n",
      "Done with pinky\n",
      "Done with pr\n",
      "Done with printenv\n",
      "Done with printf\n",
      "Done with ptx\n",
      "Done with pwd\n",
      "Done with readlink\n",
      "Done with rm\n",
      "Done with rmdir\n",
      "Done with runcon\n",
      "Done with seq\n",
      "Done with setuidgid\n",
      "Done with shred\n",
      "Done with shuf\n",
      "Done with sleep\n",
      "Done with sort\n",
      "Done with split\n",
      "Done with stat\n",
      "Done with stty\n",
      "Done with sum\n",
      "Done with sync\n",
      "Done with tac\n",
      "Done with tail\n",
      "Done with tee\n",
      "Done with touch\n",
      "Done with tr\n",
      "Done with tsort\n",
      "Done with tty\n",
      "Done with uname\n",
      "Done with unexpand\n",
      "Done with uniq\n",
      "Done with unlink\n",
      "Done with uptime\n",
      "Done with users\n",
      "Done with wc\n",
      "Done with who\n",
      "Done with whoami\n",
      "Done with yes\n"
     ]
    }
   ],
   "source": [
    "for util in np.sort(combined_df[\"util\"].unique()):\n",
    "    filtered_by_util_df = combined_df[combined_df['util'] == util]\n",
    "    keys = combined_df[\"key\"].unique()\n",
    "    fig, axes = plt.subplots(nrows=1, ncols=len(keys), figsize=(5*len(keys), 5), dpi=300)\n",
    "    fig.suptitle(f\"Plots for util \\\"{util}\\\"\", fontsize=20)\n",
    "    for i, key in enumerate(keys):\n",
    "        filtered_by_key_df = filtered_by_util_df[filtered_by_util_df['key'] == key]\n",
    "        axes[i].set_title(key)\n",
    "        order = natsorted(filtered_by_key_df[\"time\"].unique())\n",
    "        sns.boxplot(x=\"time\", y=\"value\", data=filtered_by_key_df, ax=axes[i], order=order)\n",
    "    plt.tight_layout()\n",
    "    plt.savefig(f\"plots/by-util/{util}.png\")\n",
    "    plt.close()\n",
    "    print(f\"Done with {util}\")"
   ]
  }
 ],
 "metadata": {
  "kernelspec": {
   "display_name": "Python 3",
   "language": "python",
   "name": "python3"
  },
  "language_info": {
   "codemirror_mode": {
    "name": "ipython",
    "version": 3
   },
   "file_extension": ".py",
   "mimetype": "text/x-python",
   "name": "python",
   "nbconvert_exporter": "python",
   "pygments_lexer": "ipython3",
   "version": "3.10.12"
  }
 },
 "nbformat": 4,
 "nbformat_minor": 2
}
